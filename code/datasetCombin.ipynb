{
 "cells": [
  {
   "cell_type": "code",
   "execution_count": 2,
   "metadata": {},
   "outputs": [
    {
     "name": "stdout",
     "output_type": "stream",
     "text": [
      "Combined dataset saved to '/Users/weishen/Documents/自然言語処理実装/実装6.20/データセット/PolitiFact.csv'\n"
     ]
    }
   ],
   "source": [
    "import pandas as pd\n",
    "\n",
    "# Load the real news dataset\n",
    "real_news = pd.read_csv('/Users/weishen/Documents/自然言語処理実装/実装6.20/データセット/PolitiFact_real_news_content.csv')\n",
    "# Load the fake news dataset\n",
    "fake_news = pd.read_csv('/Users/weishen/Documents/自然言語処理実装/実装6.20/データセット/PolitiFact_fake_news_content.csv')\n",
    "\n",
    "# Add a new column 'label' and set it to 0 for real news\n",
    "real_news['label'] = 0\n",
    "# Add a new column 'label' and set it to 1 for fake news\n",
    "fake_news['label'] = 1\n",
    "\n",
    "# Combine the datasets\n",
    "combined_news = pd.concat([real_news, fake_news], ignore_index=True)\n",
    "\n",
    "# Save the combined dataset to a new CSV file\n",
    "combined_news.to_csv('/Users/weishen/Documents/自然言語処理実装/実装6.20/データセット/PolitiFact.csv', index=False)\n",
    "\n",
    "print(\"Combined dataset saved to '/Users/weishen/Documents/自然言語処理実装/実装6.20/データセット/PolitiFact.csv'\")\n"
   ]
  },
  {
   "cell_type": "code",
   "execution_count": 3,
   "metadata": {},
   "outputs": [
    {
     "name": "stdout",
     "output_type": "stream",
     "text": [
      "Combined dataset saved to '/Users/weishen/Documents/自然言語処理実装/実装6.20/データセット/BuzzFeed.csv'\n"
     ]
    }
   ],
   "source": [
    "# Load the real news dataset\n",
    "real_news = pd.read_csv('/Users/weishen/Documents/自然言語処理実装/実装6.20/データセット/BuzzFeed_real_news_content.csv')\n",
    "# Load the fake news dataset\n",
    "fake_news = pd.read_csv('/Users/weishen/Documents/自然言語処理実装/実装6.20/データセット/BuzzFeed_fake_news_content.csv')\n",
    "\n",
    "# Add a new column 'label' and set it to 0 for real news\n",
    "real_news['label'] = 0\n",
    "# Add a new column 'label' and set it to 1 for fake news\n",
    "fake_news['label'] = 1\n",
    "\n",
    "# Combine the datasets\n",
    "combined_news = pd.concat([real_news, fake_news], ignore_index=True)\n",
    "\n",
    "# Save the combined dataset to a new CSV file\n",
    "combined_news.to_csv('/Users/weishen/Documents/自然言語処理実装/実装6.20/データセット/BuzzFeed.csv', index=False)\n",
    "\n",
    "print(\"Combined dataset saved to '/Users/weishen/Documents/自然言語処理実装/実装6.20/データセット/BuzzFeed.csv'\")"
   ]
  },
  {
   "cell_type": "code",
   "execution_count": 4,
   "metadata": {},
   "outputs": [],
   "source": [
    "import pandas as pd\n",
    "\n",
    "# Load the real news dataset\n",
    "pheme = pd.read_csv('/Users/weishen/Documents/自然言語処理実装/実装6.20/データセット/PHEME.csv')\n",
    "# Load the fake news dataset\n",
    "politiFact = pd.read_csv('/Users/weishen/Documents/自然言語処理実装/実装6.20/データセット/PolitiFact.csv')\n",
    "\n"
   ]
  },
  {
   "cell_type": "code",
   "execution_count": 5,
   "metadata": {},
   "outputs": [
    {
     "name": "stdout",
     "output_type": "stream",
     "text": [
      "Index(['text', 'is_rumor', 'user.handle', 'topic'], dtype='object')\n",
      "Index(['id', 'title', 'text', 'url', 'top_img', 'authors', 'source',\n",
      "       'publish_date', 'movies', 'images', 'canonical_link', 'meta_data',\n",
      "       'label'],\n",
      "      dtype='object')\n"
     ]
    }
   ],
   "source": [
    "print(pheme.columns)\n",
    "print(politiFact.columns)"
   ]
  },
  {
   "cell_type": "code",
   "execution_count": 7,
   "metadata": {},
   "outputs": [
    {
     "name": "stdout",
     "output_type": "stream",
     "text": [
      "Index(['id', 'text', 'label'], dtype='object')\n",
      "Index(['id', 'text', 'label'], dtype='object')\n"
     ]
    }
   ],
   "source": [
    "# Rename the 'id' column to 'userid' in the dataset where it is named 'id' \n",
    "pheme.rename(columns={'user.handle': 'id'}, inplace=True)\n",
    "pheme.rename(columns={'is_rumor': 'label'}, inplace=True)\n",
    "\n",
    "politiFact.rename(columns={'title': 'topic'}, inplace=True)\n",
    "\n",
    "# Keep only the 'userid', 'text', and 'label' columns\n",
    "pheme =  pheme[['id', 'text', 'label']]\n",
    "politiFact = politiFact[['id', 'text', 'label']]\n",
    "\n",
    "\n",
    "print(pheme.columns)\n",
    "print(politiFact.columns)"
   ]
  },
  {
   "cell_type": "code",
   "execution_count": 8,
   "metadata": {},
   "outputs": [
    {
     "name": "stdout",
     "output_type": "stream",
     "text": [
      "Combined dataset saved to '/Users/weishen/Documents/自然言語処理実装/実装6.20/データセット/mis_information.csv'\n"
     ]
    }
   ],
   "source": [
    "# Combine the datasets\n",
    "combined_news = pd.concat([pheme, politiFact], ignore_index=True)\n",
    "\n",
    "# Save the combined dataset to a new CSV file\n",
    "combined_news.to_csv('/Users/weishen/Documents/自然言語処理実装/実装6.20/データセット/mis_information.csv', index=False)\n",
    "\n",
    "print(\"Combined dataset saved to '/Users/weishen/Documents/自然言語処理実装/実装6.20/データセット/mis_information.csv'\")"
   ]
  },
  {
   "cell_type": "code",
   "execution_count": 9,
   "metadata": {},
   "outputs": [],
   "source": [
    "pf = pd.read_csv('/Users/weishen/Documents/自然言語処理実装/実装6.20/データセット/mis_information.csv')"
   ]
  },
  {
   "cell_type": "code",
   "execution_count": 10,
   "metadata": {},
   "outputs": [
    {
     "name": "stdout",
     "output_type": "stream",
     "text": [
      "62685\n"
     ]
    }
   ],
   "source": [
    "num_raw = pf.shape[0]\n",
    "print(num_raw)"
   ]
  }
 ],
 "metadata": {
  "kernelspec": {
   "display_name": "Python 3",
   "language": "python",
   "name": "python3"
  },
  "language_info": {
   "codemirror_mode": {
    "name": "ipython",
    "version": 3
   },
   "file_extension": ".py",
   "mimetype": "text/x-python",
   "name": "python",
   "nbconvert_exporter": "python",
   "pygments_lexer": "ipython3",
   "version": "3.11.4"
  }
 },
 "nbformat": 4,
 "nbformat_minor": 2
}
